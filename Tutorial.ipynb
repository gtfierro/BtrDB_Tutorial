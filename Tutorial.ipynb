{
 "cells": [
  {
   "cell_type": "markdown",
   "metadata": {},
   "source": [
    "## Grabbing data from BtrDB"
   ]
  },
  {
   "cell_type": "markdown",
   "metadata": {},
   "source": [
    "First thing we are going to do is learn how to fetch data from BtrDB using the [BtrDB-python bindings](https://github.com/SoftwareDefinedBuildings/btrdb-python).\n",
    "\n",
    "### Tasks to show in this section \n",
    "\n",
    "1. How to resolve a Path to a UUID using connection to Mongo\n",
    "    - We are using UUIDs to make the programming easier\n",
    "2. How to figure out how much data is in a range\n",
    "    - Can estimate bandwidth/time it takes to download the data\n",
    "    - Use 1 year windows\n",
    "3. How to make the raw data calls to BtrDB, load into a data frame"
   ]
  },
  {
   "cell_type": "markdown",
   "metadata": {},
   "source": [
    "**Note**: make sure to go over matplotlibe \"notebook\" vs \"inline\""
   ]
  },
  {
   "cell_type": "code",
   "execution_count": 1,
   "metadata": {
    "collapsed": false
   },
   "outputs": [],
   "source": [
    "import pymongo\n",
    "import uuid\n",
    "import time\n",
    "import math\n",
    "import btrdbcapnp\n",
    "import pandas as pd\n",
    "import matplotlib.pyplot as plt\n",
    "from dateutil.parser import parse as parse_date\n",
    "%matplotlib inline\n",
    "mongoconn = pymongo.MongoClient('10.20.0.11', 27017)\n",
    "# this is a basic method to retrieve the UUID \n",
    "# for a timeseries just given the path\n",
    "def uuid_from_path(path):\n",
    "    global mongoconn\n",
    "    rv = list(mongoconn.qdf.metadata.find({\"Path\":path}))\n",
    "    if len(rv) == 0:\n",
    "        raise Exception(\"Not found\")\n",
    "    return uuid.UUID(rv[0][\"uuid\"])\n",
    "# define a utility function to take a time string, parse it, and convert it to nanoseconds since UTC epoch\n",
    "def date_to_nanoseconds(date):\n",
    "    dt = parse_date(date)\n",
    "    return time.mktime(dt.timetuple()) * 1e9"
   ]
  },
  {
   "cell_type": "code",
   "execution_count": 2,
   "metadata": {
    "collapsed": false
   },
   "outputs": [
    {
     "name": "stdout",
     "output_type": "stream",
     "text": [
      "/REFSET/LBNL/a6_bus1/L1MAG has uuid => 8b902c6f-28a9-3567-8747-bcd04fad9902\n",
      "/REFSET/LBNL/a6_bus1/L2MAG has uuid => 625951e7-2b5a-348a-b0c1-dc7a11248483\n"
     ]
    }
   ],
   "source": [
    "# fetch the UUID for a path we will use in further examples\n",
    "l1mag_path = \"/REFSET/LBNL/a6_bus1/L1MAG\"\n",
    "l1mag_uuid = uuid_from_path(l1mag_path)\n",
    "print l1mag_path,\"has uuid =>\",l1mag_uuid\n",
    "l2mag_path = \"/REFSET/LBNL/a6_bus1/L2MAG\"\n",
    "l2mag_uuid = uuid_from_path(l2mag_path)\n",
    "print l2mag_path,\"has uuid =>\",l2mag_uuid"
   ]
  },
  {
   "cell_type": "code",
   "execution_count": 3,
   "metadata": {
    "collapsed": true
   },
   "outputs": [],
   "source": [
    "# now set up the connection to BtrDB\n",
    "connection = btrdbcapnp.BTrDBConnection('10.20.0.11', 4410)\n",
    "context = connection.newContext()"
   ]
  },
  {
   "cell_type": "markdown",
   "metadata": {},
   "source": [
    "Now, we use a BtrDB window query to figure out how much data there is in a given range. For our current dataset, the ranges are `1 October 2016` to just about `1 January 2016`. We will write here a little convenience method to take a range of data and a stream UUID and use a single window query over that range to pull out the number of data points in that range.\n",
    "\n",
    "The function we call is `context.queryStatisticalValues(uuid, start_time, end_time, width)`:\n",
    "- `uuid` is a `uuid.UUID` for the stream we want to query\n",
    "- `start_time` and `end_time` are both integers representing the number of nanoseconds since the epoch, delineating the beginning and end of the window we are querying\n",
    "- `width` is the \"width\" of the window in \"log nanoseconds\". We want a large window that covers the full range, so we figure out the range by taking the base-2 log of the number of nanoseconds between our start and end times. We add 1 to this to make sure that we get a window that covers the full range\n",
    "\n",
    "After we do make this call, we take note of the `'count'` field in the returned dictionary, which indicates the number of raw readings in the underlying stream. Each reading takes 16-bytes (64-bit timestamp and reading), so we can compute how much data we would retrieve if we were to pull the raw readings for that range. "
   ]
  },
  {
   "cell_type": "code",
   "execution_count": 4,
   "metadata": {
    "collapsed": false
   },
   "outputs": [],
   "source": [
    "def get_size_of_range(uuid, start_t, end_t):\n",
    "    start = date_to_nanoseconds(start_t)\n",
    "    end = date_to_nanoseconds(end_t)\n",
    "    width = int(math.log(end-start,2))+1\n",
    "    while width > 0:\n",
    "        result = context.queryStatisticalValues(uuid, start, end, width)\n",
    "        if len(result[0]) == 0: width -= 1\n",
    "        else: break\n",
    "    numBytes = result[0][0]['count'] * 16 / (1024*1024.)\n",
    "    print '{0:.2f} MB for uuid {1} in [{2}, {3}]'.format(numBytes, uuid, start_t, end_t)"
   ]
  },
  {
   "cell_type": "code",
   "execution_count": 5,
   "metadata": {
    "collapsed": false
   },
   "outputs": [
    {
     "name": "stdout",
     "output_type": "stream",
     "text": [
      "11904.57 MB for uuid 8b902c6f-28a9-3567-8747-bcd04fad9902 in [1 October 2015, 1 January 2016]\n"
     ]
    }
   ],
   "source": [
    "get_size_of_range(l1mag_uuid, '1 October 2015', '1 January 2016')"
   ]
  },
  {
   "cell_type": "markdown",
   "metadata": {},
   "source": [
    "Given that there are 11 GB of data just in this short range, we need to choose a smaller range of data, say 5-5.30am on 10 October, 2015. This gives us ~.0039 GB, which is much more manageable."
   ]
  },
  {
   "cell_type": "code",
   "execution_count": 6,
   "metadata": {
    "collapsed": false
   },
   "outputs": [
    {
     "name": "stdout",
     "output_type": "stream",
     "text": [
      "0.06 MB for uuid 8b902c6f-28a9-3567-8747-bcd04fad9902 in [10 October 2015 5:04am PST, 10 October 2015 5:05am PST]\n"
     ]
    }
   ],
   "source": [
    "get_size_of_range(l1mag_uuid, '10 October 2015 5:04am PST', '10 October 2015 5:05am PST')"
   ]
  },
  {
   "cell_type": "markdown",
   "metadata": {},
   "source": [
    "#### Multi-Resolution Search\n",
    "\n",
    "How might we find such rare events to study? One way is by visiting [the plotter](https://cm1.smartgrid.store/), but we can also write a simple multi-resolution search that uses BtrDB's statistical queries to find events above or below a given threshold"
   ]
  },
  {
   "cell_type": "code",
   "execution_count": 7,
   "metadata": {
    "collapsed": true
   },
   "outputs": [],
   "source": [
    "def find_events(context, uuid, start, end, wfilter, minwidth=10, width=None, debug=False):\n",
    "    \"\"\"\n",
    "    [start],[end] are both nanoseconds since UTC epoch\n",
    "    [treshold] is a numerical value\n",
    "    \"\"\"\n",
    "    # if width is None, we bootstrap by a large window encompassing the start/end times\n",
    "    if debug: print uuid, start, end, minwidth, width\n",
    "    if width is None:\n",
    "        width = int(math.log(end-start,2))-1\n",
    "    # while we are still above the desired resolution\n",
    "    while width >= minwidth:\n",
    "        result = context.queryStatisticalValues(uuid, start, end, width)[0]\n",
    "        if len(result) == 0: width -=1 # got no results, so try again with smaller width\n",
    "        else: break\n",
    "    # now we have a set of statistical windows. For each of these, if the min value is below\n",
    "    # our threshold, then we recursively call into that window\n",
    "    found = []\n",
    "    if debug: print '-'*20, len(result)\n",
    "    for window in result:\n",
    "        # if the minimum value in the window is less than the threshold, then we keep this window\n",
    "        #print window['time'], wfilter(window)\n",
    "        if debug: print 'res',window['time'],window['min']\n",
    "        if wfilter(window):\n",
    "            if debug: print \"found! =>\", window['time'], window['time']+(2**width), window['min']\n",
    "            # if we are at desired resolution, append this to our result set to get bubbled up\n",
    "            if width == minwidth:\n",
    "                if debug: print window\n",
    "                found.append(window)\n",
    "                continue\n",
    "            # otherwise, calculate a new window width and recurse down\n",
    "            new_start = int(window['time'])\n",
    "            new_end = int(window['time'] + (2**width))\n",
    "            if debug: print \"new call\", new_start, new_end\n",
    "            events = find_events(context, uuid, new_start, new_end, wfilter, width=width-1, minwidth=minwidth)\n",
    "            found.extend(events)\n",
    "    return found"
   ]
  },
  {
   "cell_type": "code",
   "execution_count": 8,
   "metadata": {
    "collapsed": false
   },
   "outputs": [
    {
     "data": {
      "text/plain": [
       "[{'count': 129L,\n",
       "  'max': 7547.59375,\n",
       "  'mean': 7488.690827125727,\n",
       "  'min': 7055.6669921875,\n",
       "  'time': 1445176830976851968},\n",
       " {'count': 128L,\n",
       "  'max': 7544.68798828125,\n",
       "  'mean': 7505.705272674561,\n",
       "  'min': 7147.77099609375,\n",
       "  'time': 1445176832050593792},\n",
       " {'count': 129L,\n",
       "  'max': 7494.07763671875,\n",
       "  'mean': 7461.219348049903,\n",
       "  'min': 7064.31005859375,\n",
       "  'time': 1446508621952188416},\n",
       " {'count': 128L,\n",
       "  'max': 7481.69775390625,\n",
       "  'mean': 7372.26957321167,\n",
       "  'min': 6964.3408203125,\n",
       "  'time': 1446509341359210496},\n",
       " {'count': 129L,\n",
       "  'max': 7566.29931640625,\n",
       "  'mean': 7429.350230135659,\n",
       "  'min': 6974.00341796875,\n",
       "  'time': 1446509342432952320},\n",
       " {'count': 129L,\n",
       "  'max': 7520.48779296875,\n",
       "  'mean': 7311.740060259205,\n",
       "  'min': 6753.486328125,\n",
       "  'time': 1446512341393866752}]"
      ]
     },
     "execution_count": 8,
     "metadata": {},
     "output_type": "execute_result"
    }
   ],
   "source": [
    "search_start = date_to_nanoseconds(\"1 January 2015\")\n",
    "search_end = date_to_nanoseconds(\"1 January 2016\")\n",
    "#wfilter = lambda w: w['min'] <= .90*w['mean']\n",
    "#wfilter = lambda w: w['min'] < 6850.\n",
    "wfilter = lambda w: ((w['max']-w['min']) >= .05*w['mean'])\n",
    "find_events(context, l1mag_uuid, search_start, search_end, wfilter, minwidth=30)"
   ]
  },
  {
   "cell_type": "markdown",
   "metadata": {},
   "source": [
    "#### Retrieving Data from BtrDB (Python builtins)"
   ]
  },
  {
   "cell_type": "markdown",
   "metadata": {},
   "source": [
    "Now we can finally make the call into BtrDB to retrieve the data. We will use `context.queryStandardValues`; remember you can execute `context.queryStandardValues?` inside a notebook cell in order to get a convenient documentation window."
   ]
  },
  {
   "cell_type": "code",
   "execution_count": 9,
   "metadata": {
    "collapsed": true
   },
   "outputs": [],
   "source": [
    "start = date_to_nanoseconds('10 October 2015 1:04pm')\n",
    "end = date_to_nanoseconds('10 October 2015 1:05pm')\n",
    "values = context.queryStandardValues(l1mag_uuid, start, end)\n",
    "# values is a list of (time,value) tuples for each uuid\n",
    "# we just requested one uuid, so we grab the first element of 'values'\n",
    "values = values[0]"
   ]
  },
  {
   "cell_type": "markdown",
   "metadata": {},
   "source": [
    "We print the first 10 values we receive back from BtrDB to get a sense of what the data looks like. We can see that it is a list of tuples, where the first item is a timestamp in nanoseconds and the second item is the value at that timestamp."
   ]
  },
  {
   "cell_type": "code",
   "execution_count": 10,
   "metadata": {
    "collapsed": false
   },
   "outputs": [
    {
     "name": "stdout",
     "output_type": "stream",
     "text": [
      "[(1444482240000000000, 7483.39794921875), (1444482240008333333, 7483.4287109375), (1444482240016666666, 7483.529296875), (1444482240025000000, 7483.4765625), (1444482240033333333, 7483.171875), (1444482240041666666, 7482.96240234375), (1444482240050000000, 7482.81396484375), (1444482240058333333, 7482.72998046875), (1444482240066666666, 7482.67138671875), (1444482240075000000, 7482.45703125)]\n"
     ]
    }
   ],
   "source": [
    "print values[:10]"
   ]
  },
  {
   "cell_type": "markdown",
   "metadata": {},
   "source": [
    "We can create a quick plot of the data by separating the returned data into timestamps (X-values) and values (Y-values)"
   ]
  },
  {
   "cell_type": "code",
   "execution_count": 11,
   "metadata": {
    "collapsed": false
   },
   "outputs": [
    {
     "data": {
      "text/plain": [
       "[<matplotlib.lines.Line2D at 0x7f989af83c90>]"
      ]
     },
     "execution_count": 11,
     "metadata": {},
     "output_type": "execute_result"
    },
    {
     "data": {
      "image/png": "[encoded data removed]",
      "text/plain": [
       "<matplotlib.figure.Figure at 0x7f98d4326810>"
      ]
     },
     "metadata": {},
     "output_type": "display_data"
    }
   ],
   "source": [
    "x = [item[0] for item in values]\n",
    "y = [item[1] for item in values]\n",
    "plt.clf()\n",
    "plt.plot(x,y)"
   ]
  },
  {
   "cell_type": "markdown",
   "metadata": {},
   "source": [
    "Manipulating data in terms of Python lists and tuples is simple, straightforward, and requires little-to-no knowledge outside of Python's builtins. However, once we start doing even slightly complex operations on these data, we will run into issues of performance and readability. For example, lets pull a statistical query for this same range of data at a reasonable point width and make a plot of the min/max/mean of the L1 MAG stream"
   ]
  },
  {
   "cell_type": "code",
   "execution_count": 12,
   "metadata": {
    "collapsed": false
   },
   "outputs": [
    {
     "name": "stdout",
     "output_type": "stream",
     "text": [
      "[{'count': 129L, 'mean': 7482.865427416425, 'max': 7484.56689453125, 'min': 7480.08203125, 'time': 1444482239202066432}, {'count': 128L, 'mean': 7481.543849945068, 'max': 7482.61279296875, 'min': 7479.83544921875, 'time': 1444482240275808256}]\n"
     ]
    },
    {
     "data": {
      "text/plain": [
       "[<matplotlib.lines.Line2D at 0x7f989ae5fb90>]"
      ]
     },
     "execution_count": 12,
     "metadata": {},
     "output_type": "execute_result"
    },
    {
     "data": {
      "image/png": "[encoded data removed]",
      "text/plain": [
       "<matplotlib.figure.Figure at 0x7f98a1ad7350>"
      ]
     },
     "metadata": {},
     "output_type": "display_data"
    }
   ],
   "source": [
    "stats_values = context.queryStatisticalValues(l1mag_uuid, start, end, 30)[0]\n",
    "print stats_values[:2]\n",
    "times = [item['time'] for item in stats_values]\n",
    "means = [item['mean'] for item in stats_values]\n",
    "mins = [item['min'] for item in stats_values]\n",
    "maxs = [item['max'] for item in stats_values]\n",
    "plt.plot(times,means)\n",
    "plt.plot(times,mins)\n",
    "plt.plot(times,maxs)"
   ]
  },
  {
   "cell_type": "markdown",
   "metadata": {},
   "source": [
    "#### Using Pandas"
   ]
  },
  {
   "cell_type": "markdown",
   "metadata": {},
   "source": [
    "What now if we wanted to just pull out the second or two surrounding the sag? Or find all values greater than some threshold? Or between two timestamps? What if we wanted to mask the timeseries by the LSTATE stream which indicates whether or not an error was found with the uPMU? What if we wanted to resample the data or realign it?\n",
    "\n",
    "All of these operations are possible using Python builtins, but the expression of these operations is *cleaner* and more performant using a Python data framework such as numpy or Pandas. Here, I'll be using Pandas, but Pandas DataFrames and Series can be easily converted to/from numpy data structures if that's what you are familiar with"
   ]
  },
  {
   "cell_type": "code",
   "execution_count": 13,
   "metadata": {
    "collapsed": false
   },
   "outputs": [
    {
     "data": {
      "text/html": [
       "<div>\n",
       "<table border=\"1\" class=\"dataframe\">\n",
       "  <thead>\n",
       "    <tr style=\"text-align: right;\">\n",
       "      <th></th>\n",
       "      <th>0</th>\n",
       "      <th>1</th>\n",
       "    </tr>\n",
       "  </thead>\n",
       "  <tbody>\n",
       "    <tr>\n",
       "      <th>0</th>\n",
       "      <td>1444482240000000000</td>\n",
       "      <td>7483.397949</td>\n",
       "    </tr>\n",
       "    <tr>\n",
       "      <th>1</th>\n",
       "      <td>1444482240008333333</td>\n",
       "      <td>7483.428711</td>\n",
       "    </tr>\n",
       "    <tr>\n",
       "      <th>2</th>\n",
       "      <td>1444482240016666666</td>\n",
       "      <td>7483.529297</td>\n",
       "    </tr>\n",
       "    <tr>\n",
       "      <th>3</th>\n",
       "      <td>1444482240025000000</td>\n",
       "      <td>7483.476562</td>\n",
       "    </tr>\n",
       "    <tr>\n",
       "      <th>4</th>\n",
       "      <td>1444482240033333333</td>\n",
       "      <td>7483.171875</td>\n",
       "    </tr>\n",
       "  </tbody>\n",
       "</table>\n",
       "</div>"
      ],
      "text/plain": [
       "                     0            1\n",
       "0  1444482240000000000  7483.397949\n",
       "1  1444482240008333333  7483.428711\n",
       "2  1444482240016666666  7483.529297\n",
       "3  1444482240025000000  7483.476562\n",
       "4  1444482240033333333  7483.171875"
      ]
     },
     "execution_count": 13,
     "metadata": {},
     "output_type": "execute_result"
    }
   ],
   "source": [
    "# The 'from_records` constructor interprets a tuple as a 'row'\n",
    "df = pd.DataFrame.from_records(values)\n",
    "df.head() # head shows us the first few rows of the DataFrame so we can see what it looks like"
   ]
  },
  {
   "cell_type": "markdown",
   "metadata": {},
   "source": [
    "We see now the structure of our DataFrame: we have a column \"0\" and a column \"1\" representing the timestamp and value of each of the raw readings. Let's rename the columns to something more descriptive"
   ]
  },
  {
   "cell_type": "code",
   "execution_count": 14,
   "metadata": {
    "collapsed": false
   },
   "outputs": [
    {
     "data": {
      "text/html": [
       "<div>\n",
       "<table border=\"1\" class=\"dataframe\">\n",
       "  <thead>\n",
       "    <tr style=\"text-align: right;\">\n",
       "      <th></th>\n",
       "      <th>timestamp</th>\n",
       "      <th>value</th>\n",
       "    </tr>\n",
       "  </thead>\n",
       "  <tbody>\n",
       "    <tr>\n",
       "      <th>0</th>\n",
       "      <td>1444482240000000000</td>\n",
       "      <td>7483.397949</td>\n",
       "    </tr>\n",
       "    <tr>\n",
       "      <th>1</th>\n",
       "      <td>1444482240008333333</td>\n",
       "      <td>7483.428711</td>\n",
       "    </tr>\n",
       "    <tr>\n",
       "      <th>2</th>\n",
       "      <td>1444482240016666666</td>\n",
       "      <td>7483.529297</td>\n",
       "    </tr>\n",
       "    <tr>\n",
       "      <th>3</th>\n",
       "      <td>1444482240025000000</td>\n",
       "      <td>7483.476562</td>\n",
       "    </tr>\n",
       "    <tr>\n",
       "      <th>4</th>\n",
       "      <td>1444482240033333333</td>\n",
       "      <td>7483.171875</td>\n",
       "    </tr>\n",
       "  </tbody>\n",
       "</table>\n",
       "</div>"
      ],
      "text/plain": [
       "             timestamp        value\n",
       "0  1444482240000000000  7483.397949\n",
       "1  1444482240008333333  7483.428711\n",
       "2  1444482240016666666  7483.529297\n",
       "3  1444482240025000000  7483.476562\n",
       "4  1444482240033333333  7483.171875"
      ]
     },
     "execution_count": 14,
     "metadata": {},
     "output_type": "execute_result"
    }
   ],
   "source": [
    "df.columns = ['timestamp','value']\n",
    "df.head()"
   ]
  },
  {
   "cell_type": "code",
   "execution_count": 15,
   "metadata": {
    "collapsed": false
   },
   "outputs": [],
   "source": [
    "def fetch_raw_data(uuid, start, end):\n",
    "    values = context.queryStandardValues(uuid, start, end)\n",
    "    df = pd.DataFrame.from_records(values[0])\n",
    "    df.columns = ['timestamp','value']\n",
    "    df = df.set_index(pd.to_datetime(df.pop('timestamp'),unit='ns'))\n",
    "    return df\n",
    "def fetch_stats_data(uuid, start, end, width):\n",
    "    values = context.queryStatisticalValues(uuid, start, end, width)\n",
    "    df = pd.DataFrame.from_records(values[0])\n",
    "    df = df.set_index(pd.to_datetime(df.pop('time'),unit='ns'))\n",
    "    return df"
   ]
  },
  {
   "cell_type": "markdown",
   "metadata": {},
   "source": [
    "## Data Cleaning and Transformation\n",
    "\n",
    "Once we get the raw data from BtrDB into a pandas DataFrame, we need to massage it so its easier to work with\n",
    "\n",
    "### Tasks to show in this section\n",
    "\n",
    "1. Check data count, check for null values\n",
    "2. Parse timestamps\n",
    "3. Show how to do this both for raw data and for statistical summary data fetched from BtrDB\n",
    "4. How to augment a data frame with further fetches from BtrDB:\n",
    "    - how dataframe indexes work\n",
    "    - make sure to check for null values in the index; can help to resample"
   ]
  },
  {
   "cell_type": "markdown",
   "metadata": {},
   "source": [
    "In Pandas, indexes are generally how we address, organize and align data. By default, the indexes for a data frame are just sequential integers indicating the order of the data, but it is more helpful to have it in terms of timestamps. Next, we will set the index of our DataFrame to be the parsed timestamps. Additionally, we will use `.pop('timestamp')` to remove the timestamp column from our DataFrame at the same time."
   ]
  },
  {
   "cell_type": "code",
   "execution_count": 16,
   "metadata": {
    "collapsed": false
   },
   "outputs": [
    {
     "data": {
      "text/html": [
       "<div>\n",
       "<table border=\"1\" class=\"dataframe\">\n",
       "  <thead>\n",
       "    <tr style=\"text-align: right;\">\n",
       "      <th></th>\n",
       "      <th>value</th>\n",
       "    </tr>\n",
       "    <tr>\n",
       "      <th>timestamp</th>\n",
       "      <th></th>\n",
       "    </tr>\n",
       "  </thead>\n",
       "  <tbody>\n",
       "    <tr>\n",
       "      <th>2015-10-10 13:04:00.000000000</th>\n",
       "      <td>7483.397949</td>\n",
       "    </tr>\n",
       "    <tr>\n",
       "      <th>2015-10-10 13:04:00.008333333</th>\n",
       "      <td>7483.428711</td>\n",
       "    </tr>\n",
       "    <tr>\n",
       "      <th>2015-10-10 13:04:00.016666666</th>\n",
       "      <td>7483.529297</td>\n",
       "    </tr>\n",
       "    <tr>\n",
       "      <th>2015-10-10 13:04:00.025000000</th>\n",
       "      <td>7483.476562</td>\n",
       "    </tr>\n",
       "    <tr>\n",
       "      <th>2015-10-10 13:04:00.033333333</th>\n",
       "      <td>7483.171875</td>\n",
       "    </tr>\n",
       "  </tbody>\n",
       "</table>\n",
       "</div>"
      ],
      "text/plain": [
       "                                     value\n",
       "timestamp                                 \n",
       "2015-10-10 13:04:00.000000000  7483.397949\n",
       "2015-10-10 13:04:00.008333333  7483.428711\n",
       "2015-10-10 13:04:00.016666666  7483.529297\n",
       "2015-10-10 13:04:00.025000000  7483.476562\n",
       "2015-10-10 13:04:00.033333333  7483.171875"
      ]
     },
     "execution_count": 16,
     "metadata": {},
     "output_type": "execute_result"
    }
   ],
   "source": [
    "df = df.set_index(pd.to_datetime(df.pop('timestamp'),unit='ns'))\n",
    "df.head()"
   ]
  },
  {
   "cell_type": "markdown",
   "metadata": {},
   "source": [
    "A nice thing to do when we get a DataFrame is to get some quick summary statistics to get a sense of the dataset. Luckily, Pandas makes this easy"
   ]
  },
  {
   "cell_type": "code",
   "execution_count": 17,
   "metadata": {
    "collapsed": false
   },
   "outputs": [
    {
     "data": {
      "text/html": [
       "<div>\n",
       "<table border=\"1\" class=\"dataframe\">\n",
       "  <thead>\n",
       "    <tr style=\"text-align: right;\">\n",
       "      <th></th>\n",
       "      <th>value</th>\n",
       "    </tr>\n",
       "  </thead>\n",
       "  <tbody>\n",
       "    <tr>\n",
       "      <th>count</th>\n",
       "      <td>7200.000000</td>\n",
       "    </tr>\n",
       "    <tr>\n",
       "      <th>mean</th>\n",
       "      <td>7483.439750</td>\n",
       "    </tr>\n",
       "    <tr>\n",
       "      <th>std</th>\n",
       "      <td>9.089149</td>\n",
       "    </tr>\n",
       "    <tr>\n",
       "      <th>min</th>\n",
       "      <td>7166.729492</td>\n",
       "    </tr>\n",
       "    <tr>\n",
       "      <th>25%</th>\n",
       "      <td>7481.144287</td>\n",
       "    </tr>\n",
       "    <tr>\n",
       "      <th>50%</th>\n",
       "      <td>7483.316650</td>\n",
       "    </tr>\n",
       "    <tr>\n",
       "      <th>75%</th>\n",
       "      <td>7486.192993</td>\n",
       "    </tr>\n",
       "    <tr>\n",
       "      <th>max</th>\n",
       "      <td>7499.623047</td>\n",
       "    </tr>\n",
       "  </tbody>\n",
       "</table>\n",
       "</div>"
      ],
      "text/plain": [
       "             value\n",
       "count  7200.000000\n",
       "mean   7483.439750\n",
       "std       9.089149\n",
       "min    7166.729492\n",
       "25%    7481.144287\n",
       "50%    7483.316650\n",
       "75%    7486.192993\n",
       "max    7499.623047"
      ]
     },
     "execution_count": 17,
     "metadata": {},
     "output_type": "execute_result"
    }
   ],
   "source": [
    "df.describe()"
   ]
  },
  {
   "cell_type": "markdown",
   "metadata": {},
   "source": [
    "When we start combining multiple streams and doing operations on them, Pandas uses the index to determine which values across columns should be grouped together for operations. This means that if the indexes are not \"lined up\", then the operation will result in \"null\" or `NaN` values, e.g."
   ]
  },
  {
   "cell_type": "code",
   "execution_count": 18,
   "metadata": {
    "collapsed": false
   },
   "outputs": [
    {
     "data": {
      "text/html": [
       "<div>\n",
       "<table border=\"1\" class=\"dataframe\">\n",
       "  <thead>\n",
       "    <tr style=\"text-align: right;\">\n",
       "      <th></th>\n",
       "      <th>0</th>\n",
       "    </tr>\n",
       "  </thead>\n",
       "  <tbody>\n",
       "    <tr>\n",
       "      <th>1</th>\n",
       "      <td>5.0</td>\n",
       "    </tr>\n",
       "    <tr>\n",
       "      <th>2</th>\n",
       "      <td>NaN</td>\n",
       "    </tr>\n",
       "    <tr>\n",
       "      <th>3</th>\n",
       "      <td>8.0</td>\n",
       "    </tr>\n",
       "    <tr>\n",
       "      <th>5</th>\n",
       "      <td>NaN</td>\n",
       "    </tr>\n",
       "  </tbody>\n",
       "</table>\n",
       "</div>"
      ],
      "text/plain": [
       "     0\n",
       "1  5.0\n",
       "2  NaN\n",
       "3  8.0\n",
       "5  NaN"
      ]
     },
     "execution_count": 18,
     "metadata": {},
     "output_type": "execute_result"
    }
   ],
   "source": [
    "df1 = pd.DataFrame([1,2,3],index=[1,3,5])\n",
    "df2 = pd.DataFrame([4,5,6],index=[1,2,3])\n",
    "df1+df2"
   ]
  },
  {
   "cell_type": "markdown",
   "metadata": {},
   "source": [
    "To avoid this when using timestamps, we can *resample* our data so that it is aligned on some known frequency (such as \"50 microseconds\" or \"1 day\". The relevant pieces of Pandas documentation are:\n",
    "- http://pandas.pydata.org/pandas-docs/stable/timeseries.html#resampling\n",
    "- http://pandas.pydata.org/pandas-docs/stable/timeseries.html#timeseries-offset-aliases\n",
    "- General timeseries manipulation: http://pandas.pydata.org/pandas-docs/stable/timeseries.html\n",
    "\n",
    "This type of resampling is really only needed when you are working across several timeseries streams that may not be aligned. If you are only working with a single timeseries, then this isn't really necessary.\n",
    "\n",
    "Here, we will downsample our DataFrame to 1 microsecond"
   ]
  },
  {
   "cell_type": "code",
   "execution_count": 19,
   "metadata": {
    "collapsed": false
   },
   "outputs": [
    {
     "data": {
      "text/html": [
       "<div>\n",
       "<table border=\"1\" class=\"dataframe\">\n",
       "  <thead>\n",
       "    <tr style=\"text-align: right;\">\n",
       "      <th></th>\n",
       "      <th>value</th>\n",
       "    </tr>\n",
       "  </thead>\n",
       "  <tbody>\n",
       "    <tr>\n",
       "      <th>count</th>\n",
       "      <td>7200.000000</td>\n",
       "    </tr>\n",
       "    <tr>\n",
       "      <th>mean</th>\n",
       "      <td>7483.439750</td>\n",
       "    </tr>\n",
       "    <tr>\n",
       "      <th>std</th>\n",
       "      <td>9.089149</td>\n",
       "    </tr>\n",
       "    <tr>\n",
       "      <th>min</th>\n",
       "      <td>7166.729492</td>\n",
       "    </tr>\n",
       "    <tr>\n",
       "      <th>25%</th>\n",
       "      <td>7481.144287</td>\n",
       "    </tr>\n",
       "    <tr>\n",
       "      <th>50%</th>\n",
       "      <td>7483.316650</td>\n",
       "    </tr>\n",
       "    <tr>\n",
       "      <th>75%</th>\n",
       "      <td>7486.192993</td>\n",
       "    </tr>\n",
       "    <tr>\n",
       "      <th>max</th>\n",
       "      <td>7499.623047</td>\n",
       "    </tr>\n",
       "  </tbody>\n",
       "</table>\n",
       "</div>"
      ],
      "text/plain": [
       "             value\n",
       "count  7200.000000\n",
       "mean   7483.439750\n",
       "std       9.089149\n",
       "min    7166.729492\n",
       "25%    7481.144287\n",
       "50%    7483.316650\n",
       "75%    7486.192993\n",
       "max    7499.623047"
      ]
     },
     "execution_count": 19,
     "metadata": {},
     "output_type": "execute_result"
    }
   ],
   "source": [
    "dd = df.resample('1U').min().dropna()\n",
    "dd.describe()"
   ]
  },
  {
   "cell_type": "markdown",
   "metadata": {
    "collapsed": false
   },
   "source": [
    "Now lets fetch another timeseries for the same window of time and merge it into this Pandas DataFrame. We should rename the columns so that they are more descriptive as well."
   ]
  },
  {
   "cell_type": "code",
   "execution_count": 20,
   "metadata": {
    "collapsed": false
   },
   "outputs": [],
   "source": [
    "dd.columns = ['l1_mag']\n",
    "start = date_to_nanoseconds('10 October 2015 1:04pm')\n",
    "end = date_to_nanoseconds('10 October 2015 1:05pm')\n",
    "new_df = fetch_raw_data(l2mag_uuid, start, end)\n",
    "new_dd = new_df.resample('1U').min().dropna()\n",
    "new_dd.columns = ['l2_mag']"
   ]
  },
  {
   "cell_type": "markdown",
   "metadata": {},
   "source": [
    "We now use Pandas [merge](http://pandas.pydata.org/pandas-docs/stable/generated/pandas.DataFrame.merge.html) function to combine the two DataFrames based on their now shared data indexes. We can do a basic sanity check on the results by plotting them."
   ]
  },
  {
   "cell_type": "code",
   "execution_count": 21,
   "metadata": {
    "collapsed": false
   },
   "outputs": [
    {
     "data": {
      "text/plain": [
       "<matplotlib.axes._subplots.AxesSubplot at 0x7f989af9ef10>"
      ]
     },
     "execution_count": 21,
     "metadata": {},
     "output_type": "execute_result"
    },
    {
     "data": {
      "image/png": "[encoded data removed]",
      "text/plain": [
       "<matplotlib.figure.Figure at 0x7f989af17c10>"
      ]
     },
     "metadata": {},
     "output_type": "display_data"
    }
   ],
   "source": [
    "merged = pd.merge(dd, new_dd, left_index=True, right_index=True)\n",
    "merged.plot()"
   ]
  },
  {
   "cell_type": "markdown",
   "metadata": {},
   "source": [
    "We can also easily write a method that pulls statistical data from BtrDB and places it in a dataframe"
   ]
  },
  {
   "cell_type": "code",
   "execution_count": 22,
   "metadata": {
    "collapsed": false
   },
   "outputs": [
    {
     "data": {
      "text/plain": [
       "<matplotlib.axes._subplots.AxesSubplot at 0x7f989ae2f310>"
      ]
     },
     "execution_count": 22,
     "metadata": {},
     "output_type": "execute_result"
    },
    {
     "data": {
      "image/png": "[encoded data removed]",
      "text/plain": [
       "<matplotlib.figure.Figure at 0x7f989afb5a50>"
      ]
     },
     "metadata": {},
     "output_type": "display_data"
    }
   ],
   "source": [
    "stats_df = fetch_stats_data(l1mag_uuid, start, end, 30)\n",
    "stats_df[['min','max','mean']].plot()"
   ]
  },
  {
   "cell_type": "markdown",
   "metadata": {},
   "source": [
    "## Data Manipulation in Pandas\n",
    "\n",
    "Now that the Pandas data is useful and 'clean' (to the best of our knowledge), we next learn how to do some basic operations on the DataFrame data structure.\n",
    "\n",
    "### Tasks to show in this section\n",
    "\n",
    "1. How to add/subtract/etc data frames\n",
    "    - also include the `.apply()` method\n",
    "    - iterate through data frames\n",
    "2. How to slice/filter data frames:\n",
    "    - select data w/n some time range\n",
    "    - find values above/below some threshold\n",
    "    \n"
   ]
  },
  {
   "cell_type": "code",
   "execution_count": 23,
   "metadata": {
    "collapsed": false
   },
   "outputs": [
    {
     "data": {
      "text/html": [
       "<div>\n",
       "<table border=\"1\" class=\"dataframe\">\n",
       "  <thead>\n",
       "    <tr style=\"text-align: right;\">\n",
       "      <th></th>\n",
       "      <th>l1_mag</th>\n",
       "      <th>l2_mag</th>\n",
       "    </tr>\n",
       "    <tr>\n",
       "      <th>timestamp</th>\n",
       "      <th></th>\n",
       "      <th></th>\n",
       "    </tr>\n",
       "  </thead>\n",
       "  <tbody>\n",
       "    <tr>\n",
       "      <th>2015-10-10 13:04:00.000000</th>\n",
       "      <td>7483.397949</td>\n",
       "      <td>7487.836914</td>\n",
       "    </tr>\n",
       "    <tr>\n",
       "      <th>2015-10-10 13:04:00.008333</th>\n",
       "      <td>7483.428711</td>\n",
       "      <td>7487.605469</td>\n",
       "    </tr>\n",
       "    <tr>\n",
       "      <th>2015-10-10 13:04:00.016666</th>\n",
       "      <td>7483.529297</td>\n",
       "      <td>7487.623047</td>\n",
       "    </tr>\n",
       "    <tr>\n",
       "      <th>2015-10-10 13:04:00.025000</th>\n",
       "      <td>7483.476562</td>\n",
       "      <td>7487.585938</td>\n",
       "    </tr>\n",
       "    <tr>\n",
       "      <th>2015-10-10 13:04:00.033333</th>\n",
       "      <td>7483.171875</td>\n",
       "      <td>7487.355469</td>\n",
       "    </tr>\n",
       "  </tbody>\n",
       "</table>\n",
       "</div>"
      ],
      "text/plain": [
       "                                 l1_mag       l2_mag\n",
       "timestamp                                           \n",
       "2015-10-10 13:04:00.000000  7483.397949  7487.836914\n",
       "2015-10-10 13:04:00.008333  7483.428711  7487.605469\n",
       "2015-10-10 13:04:00.016666  7483.529297  7487.623047\n",
       "2015-10-10 13:04:00.025000  7483.476562  7487.585938\n",
       "2015-10-10 13:04:00.033333  7483.171875  7487.355469"
      ]
     },
     "execution_count": 23,
     "metadata": {},
     "output_type": "execute_result"
    }
   ],
   "source": [
    "merged.head()"
   ]
  },
  {
   "cell_type": "markdown",
   "metadata": {},
   "source": [
    "Pandas DataFrames are a collection of named [Series](http://pandas.pydata.org/pandas-docs/stable/generated/pandas.Series.html), which are essentially a kind of `numpy.array` or `list` with their own set of methods; the primary difference is the addition of an index, which we've covered before.\n",
    "\n",
    "As we've seen above, we access individual columns of a DataFrame `df` by treating the columns like a dictionary, e.g. `df['column name']`. From here, we can add/subtract/divide/multiply/etc these Series to prototype whatever kind of behavior we want.\n",
    "\n",
    "Let's start by characterizing the differences between the L1 and L2 MAG streams:"
   ]
  },
  {
   "cell_type": "code",
   "execution_count": 24,
   "metadata": {
    "collapsed": false
   },
   "outputs": [
    {
     "data": {
      "text/plain": [
       "count    7200.000000\n",
       "mean        4.478562\n",
       "std         6.506403\n",
       "min         0.759766\n",
       "25%         3.969727\n",
       "50%         4.283203\n",
       "75%         4.611816\n",
       "max       250.501953\n",
       "dtype: float64"
      ]
     },
     "execution_count": 24,
     "metadata": {},
     "output_type": "execute_result"
    }
   ],
   "source": [
    "diff = merged['l2_mag'] - merged['l1_mag']\n",
    "diff.describe()"
   ]
  },
  {
   "cell_type": "markdown",
   "metadata": {},
   "source": [
    "Let's pull the `LSTATE` stream and use it as a reverse mask to remove sections of our data stream that may have GPS lock errors."
   ]
  },
  {
   "cell_type": "code",
   "execution_count": 25,
   "metadata": {
    "collapsed": false
   },
   "outputs": [
    {
     "data": {
      "text/html": [
       "<div>\n",
       "<table border=\"1\" class=\"dataframe\">\n",
       "  <thead>\n",
       "    <tr style=\"text-align: right;\">\n",
       "      <th></th>\n",
       "      <th>l1_mag</th>\n",
       "      <th>l2_mag</th>\n",
       "      <th>value</th>\n",
       "    </tr>\n",
       "    <tr>\n",
       "      <th>timestamp</th>\n",
       "      <th></th>\n",
       "      <th></th>\n",
       "      <th></th>\n",
       "    </tr>\n",
       "  </thead>\n",
       "  <tbody>\n",
       "    <tr>\n",
       "      <th>2015-10-10 13:04:00.000000</th>\n",
       "      <td>7483.397949</td>\n",
       "      <td>7487.836914</td>\n",
       "      <td>0.0</td>\n",
       "    </tr>\n",
       "    <tr>\n",
       "      <th>2015-10-10 13:04:00.008333</th>\n",
       "      <td>7483.428711</td>\n",
       "      <td>7487.605469</td>\n",
       "      <td>0.0</td>\n",
       "    </tr>\n",
       "    <tr>\n",
       "      <th>2015-10-10 13:04:00.016666</th>\n",
       "      <td>7483.529297</td>\n",
       "      <td>7487.623047</td>\n",
       "      <td>0.0</td>\n",
       "    </tr>\n",
       "    <tr>\n",
       "      <th>2015-10-10 13:04:00.025000</th>\n",
       "      <td>7483.476562</td>\n",
       "      <td>7487.585938</td>\n",
       "      <td>0.0</td>\n",
       "    </tr>\n",
       "    <tr>\n",
       "      <th>2015-10-10 13:04:00.033333</th>\n",
       "      <td>7483.171875</td>\n",
       "      <td>7487.355469</td>\n",
       "      <td>0.0</td>\n",
       "    </tr>\n",
       "  </tbody>\n",
       "</table>\n",
       "</div>"
      ],
      "text/plain": [
       "                                 l1_mag       l2_mag  value\n",
       "timestamp                                                  \n",
       "2015-10-10 13:04:00.000000  7483.397949  7487.836914    0.0\n",
       "2015-10-10 13:04:00.008333  7483.428711  7487.605469    0.0\n",
       "2015-10-10 13:04:00.016666  7483.529297  7487.623047    0.0\n",
       "2015-10-10 13:04:00.025000  7483.476562  7487.585938    0.0\n",
       "2015-10-10 13:04:00.033333  7483.171875  7487.355469    0.0"
      ]
     },
     "execution_count": 25,
     "metadata": {},
     "output_type": "execute_result"
    }
   ],
   "source": [
    "lstate_path = \"/REFSET/LBNL/a6_bus1/LSTATE\"\n",
    "lstate_uuid = uuid_from_path(lstate_path)\n",
    "mask_df = fetch_raw_data(lstate_uuid, start,end)\n",
    "mask_df = mask_df.resample('1U').min().dropna()\n",
    "merged_with_mask = pd.merge(merged, mask_df, left_index=True, right_index=True)\n",
    "merged_with_mask.head()"
   ]
  },
  {
   "cell_type": "code",
   "execution_count": 26,
   "metadata": {
    "collapsed": false
   },
   "outputs": [
    {
     "data": {
      "text/html": [
       "<div>\n",
       "<table border=\"1\" class=\"dataframe\">\n",
       "  <thead>\n",
       "    <tr style=\"text-align: right;\">\n",
       "      <th></th>\n",
       "      <th>l1_mag</th>\n",
       "      <th>l2_mag</th>\n",
       "      <th>value</th>\n",
       "    </tr>\n",
       "  </thead>\n",
       "  <tbody>\n",
       "    <tr>\n",
       "      <th>count</th>\n",
       "      <td>7200.000000</td>\n",
       "      <td>7200.000000</td>\n",
       "      <td>7200.000000</td>\n",
       "    </tr>\n",
       "    <tr>\n",
       "      <th>mean</th>\n",
       "      <td>7483.439750</td>\n",
       "      <td>7487.918312</td>\n",
       "      <td>0.066667</td>\n",
       "    </tr>\n",
       "    <tr>\n",
       "      <th>std</th>\n",
       "      <td>9.089149</td>\n",
       "      <td>4.161794</td>\n",
       "      <td>0.512112</td>\n",
       "    </tr>\n",
       "    <tr>\n",
       "      <th>min</th>\n",
       "      <td>7166.729492</td>\n",
       "      <td>7409.046875</td>\n",
       "      <td>0.000000</td>\n",
       "    </tr>\n",
       "    <tr>\n",
       "      <th>25%</th>\n",
       "      <td>7481.144287</td>\n",
       "      <td>7485.238770</td>\n",
       "      <td>0.000000</td>\n",
       "    </tr>\n",
       "    <tr>\n",
       "      <th>50%</th>\n",
       "      <td>7483.316650</td>\n",
       "      <td>7487.510254</td>\n",
       "      <td>0.000000</td>\n",
       "    </tr>\n",
       "    <tr>\n",
       "      <th>75%</th>\n",
       "      <td>7486.192993</td>\n",
       "      <td>7490.523926</td>\n",
       "      <td>0.000000</td>\n",
       "    </tr>\n",
       "    <tr>\n",
       "      <th>max</th>\n",
       "      <td>7499.623047</td>\n",
       "      <td>7504.643066</td>\n",
       "      <td>4.000000</td>\n",
       "    </tr>\n",
       "  </tbody>\n",
       "</table>\n",
       "</div>"
      ],
      "text/plain": [
       "            l1_mag       l2_mag        value\n",
       "count  7200.000000  7200.000000  7200.000000\n",
       "mean   7483.439750  7487.918312     0.066667\n",
       "std       9.089149     4.161794     0.512112\n",
       "min    7166.729492  7409.046875     0.000000\n",
       "25%    7481.144287  7485.238770     0.000000\n",
       "50%    7483.316650  7487.510254     0.000000\n",
       "75%    7486.192993  7490.523926     0.000000\n",
       "max    7499.623047  7504.643066     4.000000"
      ]
     },
     "execution_count": 26,
     "metadata": {},
     "output_type": "execute_result"
    }
   ],
   "source": [
    "merged_with_mask.describe()"
   ]
  },
  {
   "cell_type": "markdown",
   "metadata": {},
   "source": [
    "There's actually a problem with the data above; the LSTATE stream we pulled in has a minimum value of -3, which doesn't make sense for a 1-0 mask. We're going to have to go in and clean the data. To do this, we will learn about Pandas filters.\n",
    "\n",
    "We will start with some basic thresholding (return rows of a DataFrame that are greater than some constant). In the following, we make sure to address the 'value' column directly, though there are several \"flavors\" of filtering. When the name of a DataFrame is used by itself, the filter applies to all rows at once:\n",
    "\n",
    "```python\n",
    "mask_df.count() # returns the counts of each column in mask_df\n",
    "mask_df['a'].count() # returns the count of the column 'a'\n",
    "mask_df[mask_df > 0] # returns all rows of mask_df where all values of mask_df are greater than 0\n",
    "mask_df[mask_df['a'] > 0] # returns all rows of mask-df where the value in column 'a' is greater than 0\n",
    "greater_than_zero = mask_df['a'] > 0 # creates a boolean vector where entry is True if 'a' is greater than 0\n",
    "mask_df['a'][greater_than_zero] # returns all rows of mask_df column 'a' where \"greater_than_zero\" is True\n",
    "```"
   ]
  },
  {
   "cell_type": "code",
   "execution_count": 27,
   "metadata": {
    "collapsed": false
   },
   "outputs": [
    {
     "name": "stdout",
     "output_type": "stream",
     "text": [
      "7200\n",
      "120\n"
     ]
    }
   ],
   "source": [
    "print mask_df['value'].count()\n",
    "print mask_df['value'][mask_df['value'] > 1].count()"
   ]
  },
  {
   "cell_type": "markdown",
   "metadata": {},
   "source": [
    "We can see that there are 120 values in which our mask is greater than 1. We have two options; either we remove those values from the mask, or we truncate them to 1. I will show how to do both.\n",
    "\n",
    "For simplicity, lets first create a boolean vector that allows us to address only the values we want to keep"
   ]
  },
  {
   "cell_type": "code",
   "execution_count": 28,
   "metadata": {
    "collapsed": false
   },
   "outputs": [
    {
     "data": {
      "text/plain": [
       "timestamp\n",
       "2015-10-10 13:04:00.000000    True\n",
       "2015-10-10 13:04:00.008333    True\n",
       "2015-10-10 13:04:00.016666    True\n",
       "2015-10-10 13:04:00.025000    True\n",
       "2015-10-10 13:04:00.033333    True\n",
       "Name: value, dtype: bool"
      ]
     },
     "execution_count": 28,
     "metadata": {},
     "output_type": "execute_result"
    }
   ],
   "source": [
    "keep_mask = (mask_df['value'] == 0) | (mask_df['value'] == 1)\n",
    "keep_mask.head()"
   ]
  },
  {
   "cell_type": "markdown",
   "metadata": {},
   "source": [
    "Here, we use the construction\n",
    "\n",
    "```python\n",
    "(mask_df['value'] == 0) | (mask_df['value'] == 1)\n",
    "```\n",
    "\n",
    "To take the logical `or` of the two mask vectors; the result is a single vector which is True if the value is either 0 or 1. Pandas uses the bitwise or symbol (`|`) to accomplish this.\n",
    "\n",
    "This operation will gives us a Series. It is important that this is still a Pandas Series because this series of operations *preserves the DataFrame indexes*, which means that we can combine these DataFrames and Series later without worrying how our data will line up.\n",
    "\n",
    "To **remove** the values from the `mask_df` DataFrame that do not meet our filter, we use the boolean vector to \"index\" into the DataFrame"
   ]
  },
  {
   "cell_type": "code",
   "execution_count": 29,
   "metadata": {
    "collapsed": false
   },
   "outputs": [
    {
     "data": {
      "text/html": [
       "<div>\n",
       "<table border=\"1\" class=\"dataframe\">\n",
       "  <thead>\n",
       "    <tr style=\"text-align: right;\">\n",
       "      <th></th>\n",
       "      <th>value</th>\n",
       "    </tr>\n",
       "  </thead>\n",
       "  <tbody>\n",
       "    <tr>\n",
       "      <th>count</th>\n",
       "      <td>7080.0</td>\n",
       "    </tr>\n",
       "    <tr>\n",
       "      <th>mean</th>\n",
       "      <td>0.0</td>\n",
       "    </tr>\n",
       "    <tr>\n",
       "      <th>std</th>\n",
       "      <td>0.0</td>\n",
       "    </tr>\n",
       "    <tr>\n",
       "      <th>min</th>\n",
       "      <td>0.0</td>\n",
       "    </tr>\n",
       "    <tr>\n",
       "      <th>25%</th>\n",
       "      <td>0.0</td>\n",
       "    </tr>\n",
       "    <tr>\n",
       "      <th>50%</th>\n",
       "      <td>0.0</td>\n",
       "    </tr>\n",
       "    <tr>\n",
       "      <th>75%</th>\n",
       "      <td>0.0</td>\n",
       "    </tr>\n",
       "    <tr>\n",
       "      <th>max</th>\n",
       "      <td>0.0</td>\n",
       "    </tr>\n",
       "  </tbody>\n",
       "</table>\n",
       "</div>"
      ],
      "text/plain": [
       "        value\n",
       "count  7080.0\n",
       "mean      0.0\n",
       "std       0.0\n",
       "min       0.0\n",
       "25%       0.0\n",
       "50%       0.0\n",
       "75%       0.0\n",
       "max       0.0"
      ]
     },
     "execution_count": 29,
     "metadata": {},
     "output_type": "execute_result"
    }
   ],
   "source": [
    "mask_with_garbaged_removed = mask_df[keep_mask]\n",
    "mask_with_garbaged_removed.describe()"
   ]
  },
  {
   "cell_type": "markdown",
   "metadata": {},
   "source": [
    "To **change** the garbage values by truncating them to 1, we can do something similar"
   ]
  },
  {
   "cell_type": "code",
   "execution_count": 30,
   "metadata": {
    "collapsed": false
   },
   "outputs": [
    {
     "data": {
      "text/html": [
       "<div>\n",
       "<table border=\"1\" class=\"dataframe\">\n",
       "  <thead>\n",
       "    <tr style=\"text-align: right;\">\n",
       "      <th></th>\n",
       "      <th>value</th>\n",
       "    </tr>\n",
       "  </thead>\n",
       "  <tbody>\n",
       "    <tr>\n",
       "      <th>count</th>\n",
       "      <td>7200.000000</td>\n",
       "    </tr>\n",
       "    <tr>\n",
       "      <th>mean</th>\n",
       "      <td>0.016667</td>\n",
       "    </tr>\n",
       "    <tr>\n",
       "      <th>std</th>\n",
       "      <td>0.128028</td>\n",
       "    </tr>\n",
       "    <tr>\n",
       "      <th>min</th>\n",
       "      <td>0.000000</td>\n",
       "    </tr>\n",
       "    <tr>\n",
       "      <th>25%</th>\n",
       "      <td>0.000000</td>\n",
       "    </tr>\n",
       "    <tr>\n",
       "      <th>50%</th>\n",
       "      <td>0.000000</td>\n",
       "    </tr>\n",
       "    <tr>\n",
       "      <th>75%</th>\n",
       "      <td>0.000000</td>\n",
       "    </tr>\n",
       "    <tr>\n",
       "      <th>max</th>\n",
       "      <td>1.000000</td>\n",
       "    </tr>\n",
       "  </tbody>\n",
       "</table>\n",
       "</div>"
      ],
      "text/plain": [
       "             value\n",
       "count  7200.000000\n",
       "mean      0.016667\n",
       "std       0.128028\n",
       "min       0.000000\n",
       "25%       0.000000\n",
       "50%       0.000000\n",
       "75%       0.000000\n",
       "max       1.000000"
      ]
     },
     "execution_count": 30,
     "metadata": {},
     "output_type": "execute_result"
    }
   ],
   "source": [
    "change_mask = (mask_df['value'] != 0) & (mask_df['value'] != 1)\n",
    "mask_with_garbage_clipped = mask_df.copy()\n",
    "mask_with_garbage_clipped[change_mask] = 1\n",
    "mask_with_garbage_clipped.describe()"
   ]
  },
  {
   "cell_type": "markdown",
   "metadata": {},
   "source": [
    "Now, we can apply the mask to the `merged` data frame to remove possibly garbage readings."
   ]
  },
  {
   "cell_type": "code",
   "execution_count": 31,
   "metadata": {
    "collapsed": false
   },
   "outputs": [
    {
     "data": {
      "text/html": [
       "<div>\n",
       "<table border=\"1\" class=\"dataframe\">\n",
       "  <thead>\n",
       "    <tr style=\"text-align: right;\">\n",
       "      <th></th>\n",
       "      <th>l1_mag</th>\n",
       "      <th>l2_mag</th>\n",
       "    </tr>\n",
       "  </thead>\n",
       "  <tbody>\n",
       "    <tr>\n",
       "      <th>count</th>\n",
       "      <td>7080.000000</td>\n",
       "      <td>7080.000000</td>\n",
       "    </tr>\n",
       "    <tr>\n",
       "      <th>mean</th>\n",
       "      <td>7483.428221</td>\n",
       "      <td>7487.905801</td>\n",
       "    </tr>\n",
       "    <tr>\n",
       "      <th>std</th>\n",
       "      <td>9.164163</td>\n",
       "      <td>4.192013</td>\n",
       "    </tr>\n",
       "    <tr>\n",
       "      <th>min</th>\n",
       "      <td>7166.729492</td>\n",
       "      <td>7409.046875</td>\n",
       "    </tr>\n",
       "    <tr>\n",
       "      <th>25%</th>\n",
       "      <td>7481.103027</td>\n",
       "      <td>7485.188354</td>\n",
       "    </tr>\n",
       "    <tr>\n",
       "      <th>50%</th>\n",
       "      <td>7483.280518</td>\n",
       "      <td>7487.448242</td>\n",
       "    </tr>\n",
       "    <tr>\n",
       "      <th>75%</th>\n",
       "      <td>7486.229370</td>\n",
       "      <td>7490.560059</td>\n",
       "    </tr>\n",
       "    <tr>\n",
       "      <th>max</th>\n",
       "      <td>7499.623047</td>\n",
       "      <td>7504.643066</td>\n",
       "    </tr>\n",
       "  </tbody>\n",
       "</table>\n",
       "</div>"
      ],
      "text/plain": [
       "            l1_mag       l2_mag\n",
       "count  7080.000000  7080.000000\n",
       "mean   7483.428221  7487.905801\n",
       "std       9.164163     4.192013\n",
       "min    7166.729492  7409.046875\n",
       "25%    7481.103027  7485.188354\n",
       "50%    7483.280518  7487.448242\n",
       "75%    7486.229370  7490.560059\n",
       "max    7499.623047  7504.643066"
      ]
     },
     "execution_count": 31,
     "metadata": {},
     "output_type": "execute_result"
    }
   ],
   "source": [
    "filtered = merged[mask_with_garbage_clipped['value'] == 0]\n",
    "filtered.describe() # we've removed 120 possibly garbage values"
   ]
  },
  {
   "cell_type": "markdown",
   "metadata": {},
   "source": [
    "Now that we have a relatively clean dataset, we can finally take a look at isolating the interesting event we have."
   ]
  },
  {
   "cell_type": "code",
   "execution_count": 32,
   "metadata": {
    "collapsed": false
   },
   "outputs": [
    {
     "data": {
      "text/plain": [
       "<matplotlib.axes._subplots.AxesSubplot at 0x7f989ae2f790>"
      ]
     },
     "execution_count": 32,
     "metadata": {},
     "output_type": "execute_result"
    },
    {
     "data": {
      "image/png": "[encoded data removed]",
      "text/plain": [
       "<matplotlib.figure.Figure at 0x7f989aaa5190>"
      ]
     },
     "metadata": {},
     "output_type": "display_data"
    }
   ],
   "source": [
    "filtered.plot()"
   ]
  },
  {
   "cell_type": "code",
   "execution_count": 33,
   "metadata": {
    "collapsed": false
   },
   "outputs": [
    {
     "name": "stdout",
     "output_type": "stream",
     "text": [
      "L1 MAG minimum happens at 2015-10-10 13:04:41.216666\n"
     ]
    }
   ],
   "source": [
    "l1_mag_min_timestamp = filtered['l1_mag'].argmin()\n",
    "print \"L1 MAG minimum happens at\", l1_mag_min_timestamp\n",
    "after = l1_mag_min_timestamp + pd.Timedelta(milliseconds=100)\n",
    "before = l1_mag_min_timestamp - pd.Timedelta(milliseconds=100)"
   ]
  },
  {
   "cell_type": "code",
   "execution_count": 34,
   "metadata": {
    "collapsed": false
   },
   "outputs": [
    {
     "data": {
      "text/plain": [
       "<matplotlib.axes._subplots.AxesSubplot at 0x7f984df3c9d0>"
      ]
     },
     "execution_count": 34,
     "metadata": {},
     "output_type": "execute_result"
    },
    {
     "data": {
      "image/png": "[encoded data removed]",
      "text/plain": [
       "<matplotlib.figure.Figure at 0x7f984df5ad50>"
      ]
     },
     "metadata": {},
     "output_type": "display_data"
    }
   ],
   "source": [
    "merged.ix[before:after].plot() # use .ix to filter on the index"
   ]
  },
  {
   "cell_type": "markdown",
   "metadata": {},
   "source": [
    "#### Some nifty data viz"
   ]
  },
  {
   "cell_type": "code",
   "execution_count": 35,
   "metadata": {
    "collapsed": false
   },
   "outputs": [
    {
     "data": {
      "text/plain": [
       "<matplotlib.axes._subplots.AxesSubplot at 0x7f98640545d0>"
      ]
     },
     "execution_count": 35,
     "metadata": {},
     "output_type": "execute_result"
    },
    {
     "data": {
      "image/png": "[encoded data removed]",
      "text/plain": [
       "<matplotlib.figure.Figure at 0x7f984de61390>"
      ]
     },
     "metadata": {},
     "output_type": "display_data"
    }
   ],
   "source": [
    "# Sampling\n",
    "merged.resample('1S').mean().plot()"
   ]
  },
  {
   "cell_type": "code",
   "execution_count": 36,
   "metadata": {
    "collapsed": false
   },
   "outputs": [
    {
     "data": {
      "text/plain": [
       "<matplotlib.axes._subplots.AxesSubplot at 0x7f986407c510>"
      ]
     },
     "execution_count": 36,
     "metadata": {},
     "output_type": "execute_result"
    },
    {
     "data": {
      "image/png": "[encoded data removed]",
      "text/plain": [
       "<matplotlib.figure.Figure at 0x7f984de78b90>"
      ]
     },
     "metadata": {},
     "output_type": "display_data"
    }
   ],
   "source": [
    "# plotting outlier segments of the chunk\n",
    "outlier_index = (merged > (merged.mean()+2*merged.std()))\n",
    "merged[outlier_index].dropna(how='all').plot()"
   ]
  },
  {
   "cell_type": "code",
   "execution_count": 37,
   "metadata": {
    "collapsed": false
   },
   "outputs": [
    {
     "data": {
      "text/plain": [
       "<matplotlib.axes._subplots.AxesSubplot at 0x7f984de0da90>"
      ]
     },
     "execution_count": 37,
     "metadata": {},
     "output_type": "execute_result"
    },
    {
     "data": {
      "image/png": "[encoded data removed]",
      "text/plain": [
       "<matplotlib.figure.Figure at 0x7f984de78c90>"
      ]
     },
     "metadata": {},
     "output_type": "display_data"
    }
   ],
   "source": [
    "outlier_index = (merged < (merged.mean()-2*merged.std()))\n",
    "merged[outlier_index].dropna(how='all').plot()"
   ]
  },
  {
   "cell_type": "code",
   "execution_count": null,
   "metadata": {
    "collapsed": true
   },
   "outputs": [],
   "source": []
  }
 ],
 "metadata": {
  "kernelspec": {
   "display_name": "Python 2",
   "language": "python",
   "name": "python2"
  },
  "language_info": {
   "codemirror_mode": {
    "name": "ipython",
    "version": 2
   },
   "file_extension": ".py",
   "mimetype": "text/x-python",
   "name": "python",
   "nbconvert_exporter": "python",
   "pygments_lexer": "ipython2",
   "version": "2.7.12"
  }
 },
 "nbformat": 4,
 "nbformat_minor": 1
}
